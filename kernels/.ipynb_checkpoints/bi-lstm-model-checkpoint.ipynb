{
 "cells": [
  {
   "cell_type": "markdown",
   "metadata": {
    "_uuid": "54b8f7dc1ba10d7a46e7efc907c22cb17660889e"
   },
   "source": [
    "This kernel uses code from \n",
    "https://www.kaggle.com/xchmiao/popcorn-rnn-model/code\n",
    "for preprocessing."
   ]
  },
  {
   "cell_type": "code",
   "execution_count": 1,
   "metadata": {
    "_cell_guid": "b1076dfc-b9ad-4769-8c92-a6c4dae69d19",
    "_uuid": "8f2839f25d086af736a60e9eeb907d3b93b6e0e5"
   },
   "outputs": [
    {
     "name": "stdout",
     "output_type": "stream",
     "text": [
      "['sampleSubmission.csv', 'labeledTrainData.tsv', 'test_submission.csv', 'testData.tsv', 'unlabeledTrainData.tsv']\n"
     ]
    }
   ],
   "source": [
    "import numpy as np # linear algebra\n",
    "import pandas as pd # data processing, CSV file I/O (e.g. pd.read_csv)\n",
    "from bs4 import BeautifulSoup\n",
    "import pickle\n",
    "import os, re\n",
    "print(os.listdir(\"../data-set\"))\n",
    "from nltk.corpus import stopwords\n",
    "\n",
    "# Any results you write to the current directory are saved as output."
   ]
  },
  {
   "cell_type": "code",
   "execution_count": 2,
   "metadata": {
    "_uuid": "053dcdb1ed3f2256398eb114fc246fcc34aaa8cf"
   },
   "outputs": [],
   "source": [
    "train = pd.read_csv(\"../data-set/labeledTrainData.tsv\", header = 0, delimiter = '\\t')\n",
    "test = pd.read_csv(\"../data-set/testData.tsv\", header = 0, delimiter = '\\t')"
   ]
  },
  {
   "cell_type": "markdown",
   "metadata": {
    "_uuid": "84dffa97fd0491bca52637ab8620524a0575318e"
   },
   "source": [
    "Extract out the labels from the test data, due to the data leakage issue as pointed in the post https://www.kaggle.com/c/word2vec-nlp-tutorial/discussion/27022 . The label from the test data will be used for evaluation purpose."
   ]
  },
  {
   "cell_type": "code",
   "execution_count": 3,
   "metadata": {
    "_uuid": "5d7f2d3250b2e4c13182065cf1162e82750b6401"
   },
   "outputs": [],
   "source": [
    "test[\"sentiment\"] = test[\"id\"].map(lambda x: 1 if int(x.strip('\"').split(\"_\")[1]) >= 5 else 0)\n",
    "y_test = test[\"sentiment\"]"
   ]
  },
  {
   "cell_type": "markdown",
   "metadata": {
    "_cell_guid": "79c7e3d0-c299-4dcb-8224-4455121ee9b0",
    "_uuid": "d629ff2d2480ee46fbb7e2d37f6b5fab8052498a",
    "collapsed": true
   },
   "source": [
    "Define some pre-processing functions"
   ]
  },
  {
   "cell_type": "code",
   "execution_count": 4,
   "metadata": {
    "_kg_hide-input": false,
    "_uuid": "31de028b5dd4ff71f59e5ed9552e826db5730d18"
   },
   "outputs": [],
   "source": [
    "def html_to_text(review):\n",
    "    \"\"\"Return extracted text string from provided HTML string.\"\"\"\n",
    "    review_text = BeautifulSoup(review, \"lxml\").get_text()\n",
    "    if len(review_text) == 0:\n",
    "        review_text = review\n",
    "    review_text = re.sub(r\"\\<.*\\>\", \"\", review_text)\n",
    "    try:\n",
    "        review_text = review_text.encode('ascii', 'ignore').decode('ascii')#ignore \\xc3 etc.\n",
    "    except UnicodeDecodeError:\n",
    "        review_text = review_text.decode(\"ascii\", \"ignore\")\n",
    "    return review_text\n",
    "\n",
    "\n",
    "def letters_only(text):\n",
    "    \"\"\"Return input string with only letters (no punctuation, no numbers).\"\"\"\n",
    "    # It is probably worth experimenting with milder prepreocessing (eg just removing punctuation)\n",
    "    return re.sub(\"[^a-zA-Z]\", \" \", text)\n",
    "\n",
    "def rnn_tokenizer_review_preprocess(review):\n",
    "    \"\"\"Preprocessing used before fitting/transforming RNN tokenizer - Html->text, remove punctuation/#s, lowercase.\"\"\"\n",
    "    return letters_only(html_to_text(review)).lower()"
   ]
  },
  {
   "cell_type": "code",
   "execution_count": 5,
   "metadata": {
    "_kg_hide-input": false,
    "_uuid": "08b563cc57a7d167b8d3d339766b3e2fa2b2a9bc"
   },
   "outputs": [],
   "source": [
    "def get_train_val_data(reviews_to_features_fn=None, df = train):\n",
    "    \"\"\"Extracts features (using reviews_to_features_fn), splits into train/test data, and returns\n",
    "    x_train, y_train, x_test, y_test.  If no feature extraction function is provided, x_train/x_test will\n",
    "    simply consist of a Series of all the reviews.\n",
    "    \"\"\"\n",
    "#     df = pd.read_csv('labeledTrainData.tsv', header=0, quotechar='\"', sep='\\t')\n",
    "    SEED = 1000\n",
    "    # Shuffle data frame rows\n",
    "    np.random.seed(SEED)\n",
    "    df = df.iloc[np.random.permutation(len(df))]\n",
    "\n",
    "    if reviews_to_features_fn:\n",
    "        feature_rows = df[\"review\"].map(reviews_to_features_fn)\n",
    "        if type(feature_rows[0]) == np.ndarray:\n",
    "            num_instances = len(feature_rows)\n",
    "            num_features = len(feature_rows[0])\n",
    "            x = np.concatenate(feature_rows.values).reshape((num_instances, num_features))\n",
    "        else:\n",
    "            x = feature_rows\n",
    "    else:\n",
    "        x = df[\"review\"]\n",
    "\n",
    "    y = df[\"sentiment\"]\n",
    "\n",
    "    # Split 80/20\n",
    "    test_start_index = int(df.shape[0] * .8)\n",
    "    x_train = x[0:test_start_index]\n",
    "    y_train = y[0:test_start_index]\n",
    "    x_val = x[test_start_index:]\n",
    "    y_val = y[test_start_index:]\n",
    "\n",
    "    return x_train, y_train, x_val, y_val"
   ]
  },
  {
   "cell_type": "markdown",
   "metadata": {
    "_uuid": "6b8a570f1bd8ce43d430223bf0c2ea198f63987e"
   },
   "source": [
    "## Propcessed the data"
   ]
  },
  {
   "cell_type": "code",
   "execution_count": 6,
   "metadata": {
    "_uuid": "a5157a1e02bebed4beba493b320fbe55b86b6d0d"
   },
   "outputs": [],
   "source": [
    "x_train, y_train, x_val, y_val = get_train_val_data(rnn_tokenizer_review_preprocess)\n",
    "x_test = test[\"review\"].map(rnn_tokenizer_review_preprocess)\n",
    "y_test = test[\"sentiment\"]"
   ]
  },
  {
   "cell_type": "code",
   "execution_count": 7,
   "metadata": {
    "scrolled": true
   },
   "outputs": [
    {
     "name": "stdout",
     "output_type": "stream",
     "text": [
      "with all this stuff going down at the moment with mj i ve started listening to his music  watching the odd documentary here and there  watched the wiz and watched moonwalker again  maybe i just want to get a certain insight into this guy who i thought was really cool in the eighties just to maybe make up my mind whether he is guilty or innocent  moonwalker is part biography  part feature film which i remember going to see at the cinema when it was originally released  some of it has subtle messages about mj s feeling towards the press and also the obvious message of drugs are bad m kay visually impressive but of course this is all about michael jackson so unless you remotely like mj in anyway then you are going to hate this and find it boring  some may call mj an egotist for consenting to the making of this movie but mj and most of his fans would say that he made it for the fans which if true is really nice of him the actual feature film bit when it finally starts is only on for    minutes or so excluding the smooth criminal sequence and joe pesci is convincing as a psychopathic all powerful drug lord  why he wants mj dead so bad is beyond me  because mj overheard his plans  nah  joe pesci s character ranted that he wanted people to know it is he who is supplying drugs etc so i dunno  maybe he just hates mj s music lots of cool things in this like mj turning into a car and a robot and the whole speed demon sequence  also  the director must have had the patience of a saint when it came to filming the kiddy bad sequence as usually directors hate working with one kid let alone a whole bunch of them performing a complex dance scene bottom line  this movie is for people who like mj on one level or another  which i think is most people   if not  then stay away  it does try and give off a wholesome message and ironically mj s bestest buddy in this movie is a girl  michael jackson is truly one of the most talented people ever to grace this planet but is he guilty  well  with all the attention i ve gave this subject    hmmm well i don t know because people can be different behind closed doors  i know this for a fact  he is either an extremely nice but stupid guy or one of the most sickest liars  i hope he is not the latter \n"
     ]
    }
   ],
   "source": [
    "print(x_train[0])"
   ]
  },
  {
   "cell_type": "markdown",
   "metadata": {
    "_uuid": "a25e020f8ef1f4fa2331797db431f03190f4cd94"
   },
   "source": [
    "## Generate the text sequence for RNN model"
   ]
  },
  {
   "cell_type": "code",
   "execution_count": 8,
   "metadata": {
    "_uuid": "1f297e492c8ee5ad668a10a44752b2a8a7662ed5"
   },
   "outputs": [
    {
     "name": "stderr",
     "output_type": "stream",
     "text": [
      "Using TensorFlow backend.\n"
     ]
    }
   ],
   "source": [
    "from keras.preprocessing.text import Tokenizer\n",
    "from keras.preprocessing.sequence import pad_sequences"
   ]
  },
  {
   "cell_type": "code",
   "execution_count": 9,
   "metadata": {
    "_uuid": "536dd9544c9c7a65648ff798cf954ee93c799c3b"
   },
   "outputs": [],
   "source": [
    "np.random.seed(1000)\n",
    "num_most_freq_words_to_include = 5000\n",
    "MAX_REVIEW_LENGTH_FOR_KERAS_RNN = 500\n",
    "embedding_vector_length = 32"
   ]
  },
  {
   "cell_type": "code",
   "execution_count": 10,
   "metadata": {
    "_uuid": "958394bdd673d0a6436b312a6ae2608a74392be5"
   },
   "outputs": [],
   "source": [
    "# train_review_list = [s.encode('ascii') for s in x_train.tolist()]\n",
    "# val_review_list = [s.encode('ascii') for s in x_val.tolist()]\n",
    "# all_review_list = train_review_list + val_review_list\n",
    "train_review_list = x_train.tolist()\n",
    "val_review_list = x_val.tolist()\n",
    "test_review_list = x_test.tolist()\n",
    "all_review_list = x_train.tolist() + x_val.tolist()"
   ]
  },
  {
   "cell_type": "code",
   "execution_count": 11,
   "metadata": {},
   "outputs": [
    {
     "name": "stdout",
     "output_type": "stream",
     "text": [
      "['naturally in a film who s main themes are of mortality  nostalgia  and loss of innocence it is perhaps not surprising that it is rated more highly by older viewers than younger ones  however there is a craftsmanship and completeness to the film which anyone can enjoy  the pace is steady and constant  the characters full and engaging  the relationships and interactions natural showing that you do not need floods of tears to show emotion  screams to show fear  shouting to show dispute or violence to show anger  naturally joyce s short story lends the film a ready made structure as perfect as a polished diamond  but the small changes huston makes such as the inclusion of the poem fit in neatly  it is truly a masterpiece of tact  subtlety and overwhelming beauty ', 'this movie is a disaster within a disaster film  it is full of great action scenes  which are only meaningful if you throw away all sense of reality  let s see  word to the wise  lava burns you  steam burns you  you can t stand next to lava  diverting a minor lava flow is difficult  let alone a significant one  scares me to think that some might actually believe what they saw in this movie even worse is the significant amount of talent that went into making this film  i mean the acting is actually very good  the effects are above average  hard to believe somebody read the scripts for this and allowed all this talent to be wasted  i guess my suggestion would be that if this movie is about to start on tv     look away  it is like a train wreck  it is so awful that once you know what is coming  you just have to watch  look away and spend your time on more meaningful content ']\n"
     ]
    }
   ],
   "source": [
    "# print(train_review_list[0:2])\n",
    "# print(val_review_list[0:2])\n",
    "print(test_review_list[0:2])"
   ]
  },
  {
   "cell_type": "code",
   "execution_count": 12,
   "metadata": {
    "_uuid": "bad7335af88ddfc4860759be06fa33b4489163ac"
   },
   "outputs": [],
   "source": [
    "tokenizer = Tokenizer(num_words=num_most_freq_words_to_include)\n",
    "tokenizer.fit_on_texts(all_review_list)"
   ]
  },
  {
   "cell_type": "code",
   "execution_count": 13,
   "metadata": {
    "_uuid": "1b344baa63948e98603c8ab1a521267847afa767"
   },
   "outputs": [],
   "source": [
    "train_reviews_tokenized = tokenizer.texts_to_sequences(train_review_list)\n",
    "x_train = pad_sequences(train_reviews_tokenized, maxlen=MAX_REVIEW_LENGTH_FOR_KERAS_RNN)\n",
    "val_review_tokenized = tokenizer.texts_to_sequences(val_review_list)\n",
    "x_val = pad_sequences(val_review_tokenized, maxlen=MAX_REVIEW_LENGTH_FOR_KERAS_RNN)\n",
    "test_review_tokenized = tokenizer.texts_to_sequences(test_review_list)\n",
    "x_test = pad_sequences(test_review_tokenized, maxlen=MAX_REVIEW_LENGTH_FOR_KERAS_RNN)"
   ]
  },
  {
   "cell_type": "markdown",
   "metadata": {
    "_uuid": "7a46c9ed6f109dd2ddcd0ef3dbf950919ae836a5"
   },
   "source": [
    "## Architecture the RNN Model\n",
    "\n"
   ]
  },
  {
   "cell_type": "code",
   "execution_count": 14,
   "metadata": {
    "_uuid": "bde593b0733640e3a94c5763be24c5953b41a87a"
   },
   "outputs": [],
   "source": [
    "from keras.layers import Input, Embedding, Dropout, Conv1D, MaxPool1D, GRU, LSTM, Dense\n",
    "from keras.models import Model"
   ]
  },
  {
   "cell_type": "code",
   "execution_count": 15,
   "metadata": {
    "_uuid": "3ee5933ffcb3bffe6b9dcd291a9584176b9b7cfa"
   },
   "outputs": [],
   "source": [
    "def rnn_model(use_cnn = True, use_lstm = False):\n",
    "    input_sequences = Input(shape = (MAX_REVIEW_LENGTH_FOR_KERAS_RNN,))\n",
    "    initial_dropout = 0.2\n",
    "    embedding_layer = Embedding(input_dim = num_most_freq_words_to_include, \n",
    "                                output_dim = embedding_vector_length,\n",
    "                                input_length = MAX_REVIEW_LENGTH_FOR_KERAS_RNN)\n",
    "    X = embedding_layer(input_sequences)\n",
    "    X = Dropout(0.2)(X)\n",
    "    if use_cnn:\n",
    "        X = Conv1D(filters=32, kernel_size=3, padding='same', activation='relu')(X)\n",
    "        X = MaxPool1D(pool_size=2)(X)\n",
    "        \n",
    "    # Add GRU layers\n",
    "    dropout_W = 0.0\n",
    "    dropout_U = 0.0\n",
    "    \n",
    "    if use_lstm:\n",
    "        X = LSTM(100, dropout = dropout_W, recurrent_dropout = dropout_U)(X)\n",
    "    else:\n",
    "        X = GRU(100, dropout=dropout_W, recurrent_dropout=dropout_U)(X)\n",
    "    X = Dropout(0.2)(X)\n",
    "    outputs= Dense(1, activation='sigmoid')(X)\n",
    "    model = Model(inputs = input_sequences, outputs = outputs)\n",
    "    model.compile(optimizer = 'adam', loss = 'binary_crossentropy', metrics = ['accuracy'])\n",
    "    \n",
    "    return model"
   ]
  },
  {
   "cell_type": "markdown",
   "metadata": {
    "_uuid": "f311cc8bd5b90757075c20063cc2a3e3aa527abf"
   },
   "source": [
    "## GRU Model"
   ]
  },
  {
   "cell_type": "code",
   "execution_count": 16,
   "metadata": {
    "_uuid": "f7ab8324306bca315aaa53e04bd8f2590af7d16d"
   },
   "outputs": [],
   "source": [
    "gru_model = rnn_model(use_lstm=False)"
   ]
  },
  {
   "cell_type": "code",
   "execution_count": 17,
   "metadata": {
    "_uuid": "146ac0f707f73121ed21d78492e9bea9d4f6daa6"
   },
   "outputs": [
    {
     "name": "stdout",
     "output_type": "stream",
     "text": [
      "_________________________________________________________________\n",
      "Layer (type)                 Output Shape              Param #   \n",
      "=================================================================\n",
      "input_1 (InputLayer)         (None, 500)               0         \n",
      "_________________________________________________________________\n",
      "embedding_1 (Embedding)      (None, 500, 32)           160000    \n",
      "_________________________________________________________________\n",
      "dropout_1 (Dropout)          (None, 500, 32)           0         \n",
      "_________________________________________________________________\n",
      "conv1d_1 (Conv1D)            (None, 500, 32)           3104      \n",
      "_________________________________________________________________\n",
      "max_pooling1d_1 (MaxPooling1 (None, 250, 32)           0         \n",
      "_________________________________________________________________\n",
      "gru_1 (GRU)                  (None, 100)               39900     \n",
      "_________________________________________________________________\n",
      "dropout_2 (Dropout)          (None, 100)               0         \n",
      "_________________________________________________________________\n",
      "dense_1 (Dense)              (None, 1)                 101       \n",
      "=================================================================\n",
      "Total params: 203,105\n",
      "Trainable params: 203,105\n",
      "Non-trainable params: 0\n",
      "_________________________________________________________________\n"
     ]
    }
   ],
   "source": [
    "gru_model.summary()"
   ]
  },
  {
   "cell_type": "code",
   "execution_count": 18,
   "metadata": {
    "_uuid": "6578a457e309241a4e46b7548ee6df0ceb8bb55e"
   },
   "outputs": [
    {
     "name": "stdout",
     "output_type": "stream",
     "text": [
      "Train on 20000 samples, validate on 5000 samples\n",
      "Epoch 1/3\n",
      "20000/20000 [==============================] - 163s 8ms/step - loss: 0.4884 - acc: 0.7367 - val_loss: 0.3203 - val_acc: 0.8732\n",
      "Epoch 2/3\n",
      "20000/20000 [==============================] - 124s 6ms/step - loss: 0.2609 - acc: 0.8947 - val_loss: 0.3141 - val_acc: 0.8774\n",
      "Epoch 3/3\n",
      "20000/20000 [==============================] - 121s 6ms/step - loss: 0.2138 - acc: 0.9198 - val_loss: 0.2924 - val_acc: 0.8852\n"
     ]
    },
    {
     "data": {
      "text/plain": [
       "<keras.callbacks.History at 0x7fae18811c88>"
      ]
     },
     "execution_count": 18,
     "metadata": {},
     "output_type": "execute_result"
    }
   ],
   "source": [
    "gru_model.fit(x_train, y_train, batch_size=64, epochs=3, validation_data=[x_val, y_val])"
   ]
  },
  {
   "cell_type": "code",
   "execution_count": 19,
   "metadata": {
    "_uuid": "90f26217c71dd73a12c0af3b30ccf30461553e93"
   },
   "outputs": [],
   "source": [
    "y_test_pred_gru = gru_model.predict(x_test)"
   ]
  },
  {
   "cell_type": "markdown",
   "metadata": {
    "_uuid": "cc6234580406c761bdf9c4ffb7a4fe8addb07c53"
   },
   "source": [
    "## LSTM Model"
   ]
  },
  {
   "cell_type": "code",
   "execution_count": 20,
   "metadata": {
    "_uuid": "d0c1e33a37728207ce8a43d132cfb77c00387529"
   },
   "outputs": [
    {
     "name": "stdout",
     "output_type": "stream",
     "text": [
      "_________________________________________________________________\n",
      "Layer (type)                 Output Shape              Param #   \n",
      "=================================================================\n",
      "input_2 (InputLayer)         (None, 500)               0         \n",
      "_________________________________________________________________\n",
      "embedding_2 (Embedding)      (None, 500, 32)           160000    \n",
      "_________________________________________________________________\n",
      "dropout_3 (Dropout)          (None, 500, 32)           0         \n",
      "_________________________________________________________________\n",
      "conv1d_2 (Conv1D)            (None, 500, 32)           3104      \n",
      "_________________________________________________________________\n",
      "max_pooling1d_2 (MaxPooling1 (None, 250, 32)           0         \n",
      "_________________________________________________________________\n",
      "lstm_1 (LSTM)                (None, 100)               53200     \n",
      "_________________________________________________________________\n",
      "dropout_4 (Dropout)          (None, 100)               0         \n",
      "_________________________________________________________________\n",
      "dense_2 (Dense)              (None, 1)                 101       \n",
      "=================================================================\n",
      "Total params: 216,405\n",
      "Trainable params: 216,405\n",
      "Non-trainable params: 0\n",
      "_________________________________________________________________\n"
     ]
    }
   ],
   "source": [
    "lstm_model = rnn_model(use_lstm=True)\n",
    "lstm_model.summary()"
   ]
  },
  {
   "cell_type": "code",
   "execution_count": 21,
   "metadata": {
    "_uuid": "fe8ed887418e7769f36aa88c036393e6043d2882"
   },
   "outputs": [
    {
     "name": "stdout",
     "output_type": "stream",
     "text": [
      "Train on 20000 samples, validate on 5000 samples\n",
      "Epoch 1/3\n",
      "20000/20000 [==============================] - 151s 8ms/step - loss: 0.4757 - acc: 0.7558 - val_loss: 0.2963 - val_acc: 0.8770\n",
      "Epoch 2/3\n",
      "20000/20000 [==============================] - 149s 7ms/step - loss: 0.2663 - acc: 0.8951 - val_loss: 0.3061 - val_acc: 0.8750\n",
      "Epoch 3/3\n",
      "20000/20000 [==============================] - 150s 8ms/step - loss: 0.2217 - acc: 0.9144 - val_loss: 0.3152 - val_acc: 0.8790\n"
     ]
    },
    {
     "data": {
      "text/plain": [
       "<keras.callbacks.History at 0x7fade39b9780>"
      ]
     },
     "execution_count": 21,
     "metadata": {},
     "output_type": "execute_result"
    }
   ],
   "source": [
    "lstm_model.fit(x_train, y_train, batch_size = 64, epochs = 3, validation_data=[x_val, y_val])"
   ]
  },
  {
   "cell_type": "code",
   "execution_count": 22,
   "metadata": {
    "_uuid": "f5f2da506eefc143b721536a0f336497da6779c0"
   },
   "outputs": [],
   "source": [
    "y_test_pred_lstm = lstm_model.predict(x_test)"
   ]
  },
  {
   "cell_type": "markdown",
   "metadata": {
    "_uuid": "1c073746af3da66c91b85f275540b949011ab099"
   },
   "source": [
    "### Evaluate the Model Performance on Test Data"
   ]
  },
  {
   "cell_type": "code",
   "execution_count": 23,
   "metadata": {
    "_uuid": "85f2b40fea79b40da88381bab748ab4d9eb94e44"
   },
   "outputs": [],
   "source": [
    "from sklearn.metrics import accuracy_score, roc_auc_score, roc_curve\n",
    "import matplotlib.pyplot as plt\n",
    "%matplotlib inline"
   ]
  },
  {
   "cell_type": "code",
   "execution_count": 24,
   "metadata": {
    "_uuid": "3c39ac1d57518a7a17dc1fc1976763902001fc0b"
   },
   "outputs": [
    {
     "name": "stdout",
     "output_type": "stream",
     "text": [
      "The AUC socre for GRU model is : 0.9486.\n",
      "The AUC socre for LSTM model is : 0.9443.\n"
     ]
    }
   ],
   "source": [
    "print(\"The AUC socre for GRU model is : %.4f.\" %roc_auc_score(y_test, y_test_pred_gru))\n",
    "print(\"The AUC socre for LSTM model is : %.4f.\" %roc_auc_score(y_test, y_test_pred_lstm))"
   ]
  },
  {
   "cell_type": "code",
   "execution_count": 25,
   "metadata": {
    "_uuid": "c7e2fca20c0f9673faca44317955e4a00e4ce1e8"
   },
   "outputs": [
    {
     "data": {
      "image/png": "[encoded data removed]",
      "text/plain": [
       "<Figure size 432x288 with 1 Axes>"
      ]
     },
     "metadata": {},
     "output_type": "display_data"
    }
   ],
   "source": [
    "y_pred_list = [y_test_pred_gru, y_test_pred_lstm]\n",
    "label_list = [\"GRU\", \"LSTM\"]\n",
    "pred_label = zip(y_pred_list, label_list)\n",
    "for y_pred, lbl in pred_label:\n",
    "    fpr, tpr, _ = roc_curve(y_test, y_pred)\n",
    "    plt.plot(fpr, tpr, label = lbl)\n",
    "\n",
    "plt.xlabel(\"True Postive Rate\")\n",
    "plt.ylabel(\"False Positive Rate\")\n",
    "plt.title(\"ROC Curve for RNN Models\")\n",
    "plt.legend()\n",
    "plt.show()"
   ]
  },
  {
   "cell_type": "markdown",
   "metadata": {
    "_uuid": "18b827d13a008791947e1583c6a75d144c4cb306"
   },
   "source": [
    "Overall, GRU model performs slightly well than LSTM, but the difference is very small."
   ]
  },
  {
   "cell_type": "code",
   "execution_count": null,
   "metadata": {
    "_uuid": "77f63266dbcbff9a11f22940dddc3162dd0565f6"
   },
   "outputs": [],
   "source": []
  }
 ],
 "metadata": {
  "kernelspec": {
   "display_name": "Python 3",
   "language": "python",
   "name": "python3"
  },
  "language_info": {
   "codemirror_mode": {
    "name": "ipython",
    "version": 3
   },
   "file_extension": ".py",
   "mimetype": "text/x-python",
   "name": "python",
   "nbconvert_exporter": "python",
   "pygments_lexer": "ipython3",
   "version": "3.5.3"
  }
 },
 "nbformat": 4,
 "nbformat_minor": 1
}
