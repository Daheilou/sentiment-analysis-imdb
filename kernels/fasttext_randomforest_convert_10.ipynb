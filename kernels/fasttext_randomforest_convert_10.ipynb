{
 "cells": [
  {
   "cell_type": "code",
   "execution_count": 1,
   "metadata": {},
   "outputs": [
    {
     "name": "stderr",
     "output_type": "stream",
     "text": [
      "/usr/local/lib/python2.7/site-packages/sklearn/ensemble/weight_boosting.py:29: DeprecationWarning: numpy.core.umath_tests is an internal NumPy module and should not be imported. It will be removed in a future NumPy release.\n",
      "  from numpy.core.umath_tests import inner1d\n"
     ]
    }
   ],
   "source": [
    "import pandas as pd\n",
    "import os\n",
    "from nltk.corpus import stopwords\n",
    "import nltk.data\n",
    "import logging\n",
    "import numpy as np  # Make sure that numpy is imported\n",
    "import fastText\n",
    "\n",
    "from sklearn.ensemble import RandomForestClassifier"
   ]
  },
  {
   "cell_type": "code",
   "execution_count": 2,
   "metadata": {},
   "outputs": [],
   "source": [
    "def makeFeatureVec(words, model, num_features):\n",
    "    # Function to average all of the word vectors in a given\n",
    "    # paragraph\n",
    "    #\n",
    "    # Pre-initialize an empty numpy array (for speed)\n",
    "    featureVec = np.zeros((num_features,), dtype=\"float32\")\n",
    "    #\n",
    "    nwords = 0.\n",
    "    #\n",
    "    # Loop over each word in the review and, if it is in the model's\n",
    "    # vocaublary, add its feature vector to the total\n",
    "    for word in words:\n",
    "        nwords = nwords + 1.\n",
    "        featureVec = np.add(featureVec, model.get_word_vector(word))\n",
    "\n",
    "    if nwords == 0.:\n",
    "        print(nwords)\n",
    "        print(words)\n",
    "    #\n",
    "    # Divide the result by the number of words to get the average\n",
    "    featureVec = np.divide(featureVec, nwords)\n",
    "    return featureVec\n",
    "\n",
    "\n",
    "def getAvgFeatureVecs(reviews, model, num_features):\n",
    "    # Given a set of reviews (each one a list of words), calculate\n",
    "    # the average feature vector for each one and return a 2D numpy array\n",
    "    #\n",
    "    # Initialize a counter\n",
    "    counter = 0.\n",
    "    #\n",
    "    # Preallocate a 2D numpy array, for speed\n",
    "    reviewFeatureVecs = np.zeros((len(reviews), num_features), dtype=\"float32\")\n",
    "    #\n",
    "    # Loop through the reviews\n",
    "    for review in reviews:\n",
    "        #\n",
    "        # Print a status message every 1000th review\n",
    "        if counter % 5000. == 0.:\n",
    "            print \"Review %d of %d\" % (counter, len(reviews))\n",
    "        #\n",
    "        # Call the function (defined above) that makes average feature vectors\n",
    "        reviewFeatureVecs[int(counter)] = makeFeatureVec(review, model, num_features)\n",
    "        #\n",
    "        # Increment the counter\n",
    "        counter = counter + 1.\n",
    "    return reviewFeatureVecs"
   ]
  },
  {
   "cell_type": "code",
   "execution_count": 3,
   "metadata": {},
   "outputs": [
    {
     "name": "stdout",
     "output_type": "stream",
     "text": [
      "Read 25000 labeled train reviews and 25000 test reviews\n"
     ]
    }
   ],
   "source": [
    "# Load clean reviews\n",
    "BASE_DIR = '../input/'\n",
    "LABELED_TRAIN_DF = BASE_DIR + 'labeled_train_clean_reviews_convert_10.csv'\n",
    "TEST_DF = BASE_DIR + 'test_clean_reviews_convert_10.csv'\n",
    "labeled_train = pd.read_csv(LABELED_TRAIN_DF, header = 0)\n",
    "test = pd.read_csv(TEST_DF, header = 0)\n",
    "# Prevent 'float' object has no attribute 'lower' error in keras tokenizer\n",
    "# https://stackoverflow.com/questions/34724246/attributeerror-float-object-has-no-attribute-lower\n",
    "labeled_train[\"review\"] = labeled_train[\"review\"].astype(str)\n",
    "test[\"review\"] = test[\"review\"].astype(str)\n",
    "print \"Read %d labeled train reviews and %d test reviews\" % (labeled_train[\"review\"].size, test[\"review\"].size)"
   ]
  },
  {
   "cell_type": "code",
   "execution_count": 4,
   "metadata": {},
   "outputs": [
    {
     "name": "stdout",
     "output_type": "stream",
     "text": [
      "[1, 1, 0, 0, 1, 1, 0, 0, 0, 1]\n"
     ]
    }
   ],
   "source": [
    "labeled_train_sentiment = labeled_train[\"sentiment\"].tolist()\n",
    "print(labeled_train_sentiment[0:10])"
   ]
  },
  {
   "cell_type": "code",
   "execution_count": 5,
   "metadata": {},
   "outputs": [],
   "source": [
    "def reviews_to_wordlist(reviews):\n",
    "    wordlist = []\n",
    "    for review in reviews:\n",
    "        words = review.split()\n",
    "        words = [word.strip() for word in words]\n",
    "        wordlist.append(words)\n",
    "    return wordlist"
   ]
  },
  {
   "cell_type": "code",
   "execution_count": 6,
   "metadata": {},
   "outputs": [
    {
     "name": "stdout",
     "output_type": "stream",
     "text": [
      "['with', 'all', 'this', 'stuff', 'going', 'down', 'at', 'the', 'moment', 'with']\n",
      "['naturally', 'in', 'a', 'film', 'who', 's', 'main', 'themes', 'are', 'of']\n"
     ]
    }
   ],
   "source": [
    "labeled_train_reviews = labeled_train[\"review\"].tolist()\n",
    "test_reviews = test[\"review\"].tolist()\n",
    "labeled_train_reviews = reviews_to_wordlist(labeled_train_reviews)\n",
    "test_reviews = reviews_to_wordlist(test_reviews)\n",
    "print(labeled_train_reviews[0][0:10])\n",
    "print(test_reviews[0][0:10])"
   ]
  },
  {
   "cell_type": "code",
   "execution_count": 7,
   "metadata": {},
   "outputs": [],
   "source": [
    "num_features = 300"
   ]
  },
  {
   "cell_type": "code",
   "execution_count": 8,
   "metadata": {},
   "outputs": [
    {
     "name": "stdout",
     "output_type": "stream",
     "text": [
      "Creating my average feature vecs for training reviews\n",
      "Review 0 of 25000\n",
      "Review 5000 of 25000\n",
      "Review 10000 of 25000\n",
      "Review 15000 of 25000\n",
      "Review 20000 of 25000\n",
      "Creating my average feature vecs for test reviews\n",
      "Review 0 of 25000\n",
      "Review 5000 of 25000\n",
      "Review 10000 of 25000\n",
      "Review 15000 of 25000\n",
      "Review 20000 of 25000\n"
     ]
    }
   ],
   "source": [
    "my_model = fastText.load_model('../input/fasttext_300features_40minwords_10context_convert_10.bin')\n",
    "print \"Creating my average feature vecs for training reviews\"\n",
    "my_train_vecs = getAvgFeatureVecs(labeled_train_reviews, my_model, num_features)\n",
    "\n",
    "print \"Creating my average feature vecs for test reviews\"\n",
    "my_test_vecs = getAvgFeatureVecs(test_reviews, my_model, num_features)"
   ]
  },
  {
   "cell_type": "code",
   "execution_count": 8,
   "metadata": {},
   "outputs": [
    {
     "name": "stdout",
     "output_type": "stream",
     "text": [
      "Creating supervised average feature vecs for training reviews\n",
      "Review 0 of 25000\n",
      "Review 5000 of 25000\n",
      "Review 10000 of 25000\n",
      "Review 15000 of 25000\n",
      "Review 20000 of 25000\n",
      "Creating supervised average feature vecs for test reviews\n",
      "Review 0 of 25000\n",
      "Review 5000 of 25000\n",
      "Review 10000 of 25000\n",
      "Review 15000 of 25000\n",
      "Review 20000 of 25000\n"
     ]
    }
   ],
   "source": [
    "supervised_model = fastText.load_model('../input/fasttext_300features_40minwords_10context_pretrained_wiki_convert_10.bin')\n",
    "print \"Creating supervised average feature vecs for training reviews\"\n",
    "supervised_train_vecs = getAvgFeatureVecs(labeled_train_reviews, supervised_model, num_features)\n",
    "\n",
    "print \"Creating supervised average feature vecs for test reviews\"\n",
    "supervised_test_vecs = getAvgFeatureVecs(test_reviews, supervised_model, num_features)"
   ]
  },
  {
   "cell_type": "code",
   "execution_count": 9,
   "metadata": {},
   "outputs": [],
   "source": [
    "my_forest = RandomForestClassifier(n_estimators=100)\n",
    "my_forest = my_forest.fit(my_train_vecs, labeled_train_sentiment)\n",
    "my_result = my_forest.predict(my_test_vecs)"
   ]
  },
  {
   "cell_type": "code",
   "execution_count": 9,
   "metadata": {},
   "outputs": [],
   "source": [
    "supervised_forest = RandomForestClassifier(n_estimators=100)\n",
    "supervised_forest = supervised_forest.fit(supervised_train_vecs, labeled_train_sentiment)\n",
    "supervised_result = supervised_forest.predict(supervised_test_vecs)"
   ]
  },
  {
   "cell_type": "code",
   "execution_count": 13,
   "metadata": {},
   "outputs": [],
   "source": [
    "test[\"sentiment\"] = test[\"id\"].map(lambda x: 1 if int(x.strip('\"').split(\"_\")[1]) >= 5 else 0)\n",
    "test_sentiment = test[\"sentiment\"].tolist()"
   ]
  },
  {
   "cell_type": "code",
   "execution_count": 14,
   "metadata": {},
   "outputs": [],
   "source": [
    "from sklearn.metrics import accuracy_score, roc_auc_score, roc_curve\n",
    "def print_auc_score(model_name, test_pred):\n",
    "    print(\"The AUC score for %s is : %.4f.\" % (model_name, roc_auc_score(test_sentiment, test_pred)))\n",
    "    return"
   ]
  },
  {
   "cell_type": "code",
   "execution_count": 15,
   "metadata": {},
   "outputs": [
    {
     "name": "stdout",
     "output_type": "stream",
     "text": [
      "The AUC score for Fasttext my random forest convert 10 is : 0.8323.\n"
     ]
    }
   ],
   "source": [
    "print_auc_score(\"Fasttext my random forest convert 10\", my_result)"
   ]
  },
  {
   "cell_type": "code",
   "execution_count": 12,
   "metadata": {},
   "outputs": [
    {
     "name": "stdout",
     "output_type": "stream",
     "text": [
      "The AUC score for Fasttext supervised vector random forest convert 10 is : 0.8276.\n"
     ]
    }
   ],
   "source": [
    "print_auc_score(\"Fasttext supervised vector random forest convert 10\", supervised_result)"
   ]
  }
 ],
 "metadata": {
  "kernelspec": {
   "display_name": "Python 2",
   "language": "python",
   "name": "python2"
  },
  "language_info": {
   "codemirror_mode": {
    "name": "ipython",
    "version": 2
   },
   "file_extension": ".py",
   "mimetype": "text/x-python",
   "name": "python",
   "nbconvert_exporter": "python",
   "pygments_lexer": "ipython2",
   "version": "2.7.13"
  }
 },
 "nbformat": 4,
 "nbformat_minor": 2
}
